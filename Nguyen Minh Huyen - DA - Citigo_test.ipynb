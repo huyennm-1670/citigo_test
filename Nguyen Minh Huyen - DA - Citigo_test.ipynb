{
 "cells": [
  {
   "cell_type": "code",
   "execution_count": 1,
   "id": "1301fd12",
   "metadata": {},
   "outputs": [],
   "source": [
    "import pandas as pd\n",
    "import numpy as np\n",
    "import matplotlib.pyplot as plt\n",
    "import seaborn as sns\n",
    "import plotly.express as px\n",
    "import datetime as dt\n",
    "%matplotlib inline"
   ]
  },
  {
   "cell_type": "code",
   "execution_count": 3,
   "id": "d13960ea",
   "metadata": {},
   "outputs": [],
   "source": [
    "customer = pd.read_excel(\"d_customer.xlsx\", engine=\"openpyxl\")\n",
    "product = pd.read_excel(\"d_product.xlsx\", engine=\"openpyxl\")\n",
    "sub = pd.read_excel(\"d_product_subcategory.xlsx\", engine=\"openpyxl\")\n",
    "territory = pd.read_excel(\"d_sales_territory.xlsx\", engine=\"openpyxl\")\n",
    "sales = pd.read_excel(\"f_sales.xlsx\", engine=\"openpyxl\")"
   ]
  },
  {
   "cell_type": "code",
   "execution_count": 4,
   "id": "68074434",
   "metadata": {},
   "outputs": [
    {
     "data": {
      "text/plain": [
       "CustomerKey              int64\n",
       "GeographyKey             int64\n",
       "CustomerAlternateKey    object\n",
       "FirstName               object\n",
       "LastName                object\n",
       "BirthDate               object\n",
       "MaritalStatus           object\n",
       "Gender                  object\n",
       "YearlyIncome            object\n",
       "TotalChildren            int64\n",
       "NumberChildrenAtHome     int64\n",
       "Education               object\n",
       "Occupation              object\n",
       "NumberCarsOwned          int64\n",
       "DateFirstPurchase       object\n",
       "CommuteDistance         object\n",
       "BirthYear                int64\n",
       "FirstPurchaseYear        int64\n",
       "dtype: object"
      ]
     },
     "execution_count": 4,
     "metadata": {},
     "output_type": "execute_result"
    }
   ],
   "source": [
    "customer.dtypes"
   ]
  },
  {
   "cell_type": "code",
   "execution_count": 5,
   "id": "117c8436",
   "metadata": {},
   "outputs": [
    {
     "data": {
      "text/html": [
       "<div>\n",
       "<style scoped>\n",
       "    .dataframe tbody tr th:only-of-type {\n",
       "        vertical-align: middle;\n",
       "    }\n",
       "\n",
       "    .dataframe tbody tr th {\n",
       "        vertical-align: top;\n",
       "    }\n",
       "\n",
       "    .dataframe thead th {\n",
       "        text-align: right;\n",
       "    }\n",
       "</style>\n",
       "<table border=\"1\" class=\"dataframe\">\n",
       "  <thead>\n",
       "    <tr style=\"text-align: right;\">\n",
       "      <th></th>\n",
       "      <th>ProductKey</th>\n",
       "      <th>OrderDateKey</th>\n",
       "      <th>CustomerKey</th>\n",
       "      <th>SalesTerritoryKey</th>\n",
       "      <th>SalesOrderNumber</th>\n",
       "      <th>SalesOrderLineNumber</th>\n",
       "      <th>OrderQuantity</th>\n",
       "      <th>UnitPrice</th>\n",
       "      <th>TotalProductCost</th>\n",
       "      <th>TaxAmount</th>\n",
       "      <th>SalesAmount</th>\n",
       "      <th>OrderDate</th>\n",
       "    </tr>\n",
       "  </thead>\n",
       "  <tbody>\n",
       "    <tr>\n",
       "      <th>0</th>\n",
       "      <td>528</td>\n",
       "      <td>20130128</td>\n",
       "      <td>14870</td>\n",
       "      <td>4</td>\n",
       "      <td>SO51900</td>\n",
       "      <td>1</td>\n",
       "      <td>1</td>\n",
       "      <td>4.99</td>\n",
       "      <td>1.8663</td>\n",
       "      <td>0.3992</td>\n",
       "      <td>5</td>\n",
       "      <td>2013-01-28</td>\n",
       "    </tr>\n",
       "    <tr>\n",
       "      <th>1</th>\n",
       "      <td>528</td>\n",
       "      <td>20130129</td>\n",
       "      <td>15319</td>\n",
       "      <td>4</td>\n",
       "      <td>SO51948</td>\n",
       "      <td>1</td>\n",
       "      <td>1</td>\n",
       "      <td>4.99</td>\n",
       "      <td>1.8663</td>\n",
       "      <td>0.3992</td>\n",
       "      <td>5</td>\n",
       "      <td>2013-01-29</td>\n",
       "    </tr>\n",
       "    <tr>\n",
       "      <th>2</th>\n",
       "      <td>528</td>\n",
       "      <td>20130131</td>\n",
       "      <td>16384</td>\n",
       "      <td>4</td>\n",
       "      <td>SO52043</td>\n",
       "      <td>1</td>\n",
       "      <td>1</td>\n",
       "      <td>4.99</td>\n",
       "      <td>1.8663</td>\n",
       "      <td>0.3992</td>\n",
       "      <td>5</td>\n",
       "      <td>2013-01-31</td>\n",
       "    </tr>\n",
       "    <tr>\n",
       "      <th>3</th>\n",
       "      <td>528</td>\n",
       "      <td>20130131</td>\n",
       "      <td>15476</td>\n",
       "      <td>4</td>\n",
       "      <td>SO52045</td>\n",
       "      <td>1</td>\n",
       "      <td>1</td>\n",
       "      <td>4.99</td>\n",
       "      <td>1.8663</td>\n",
       "      <td>0.3992</td>\n",
       "      <td>5</td>\n",
       "      <td>2013-01-31</td>\n",
       "    </tr>\n",
       "    <tr>\n",
       "      <th>4</th>\n",
       "      <td>528</td>\n",
       "      <td>20130201</td>\n",
       "      <td>15861</td>\n",
       "      <td>4</td>\n",
       "      <td>SO52094</td>\n",
       "      <td>1</td>\n",
       "      <td>1</td>\n",
       "      <td>4.99</td>\n",
       "      <td>1.8663</td>\n",
       "      <td>0.3992</td>\n",
       "      <td>5</td>\n",
       "      <td>2013-02-01</td>\n",
       "    </tr>\n",
       "  </tbody>\n",
       "</table>\n",
       "</div>"
      ],
      "text/plain": [
       "   ProductKey  OrderDateKey  CustomerKey  SalesTerritoryKey SalesOrderNumber  \\\n",
       "0         528      20130128        14870                  4          SO51900   \n",
       "1         528      20130129        15319                  4          SO51948   \n",
       "2         528      20130131        16384                  4          SO52043   \n",
       "3         528      20130131        15476                  4          SO52045   \n",
       "4         528      20130201        15861                  4          SO52094   \n",
       "\n",
       "   SalesOrderLineNumber  OrderQuantity  UnitPrice  TotalProductCost  \\\n",
       "0                     1              1       4.99            1.8663   \n",
       "1                     1              1       4.99            1.8663   \n",
       "2                     1              1       4.99            1.8663   \n",
       "3                     1              1       4.99            1.8663   \n",
       "4                     1              1       4.99            1.8663   \n",
       "\n",
       "   TaxAmount  SalesAmount  OrderDate  \n",
       "0     0.3992            5 2013-01-28  \n",
       "1     0.3992            5 2013-01-29  \n",
       "2     0.3992            5 2013-01-31  \n",
       "3     0.3992            5 2013-01-31  \n",
       "4     0.3992            5 2013-02-01  "
      ]
     },
     "execution_count": 5,
     "metadata": {},
     "output_type": "execute_result"
    }
   ],
   "source": [
    "sales.head()"
   ]
  },
  {
   "cell_type": "code",
   "execution_count": 6,
   "id": "8bf1f26a",
   "metadata": {},
   "outputs": [
    {
     "data": {
      "text/plain": [
       "ProductKey                       int64\n",
       "OrderDateKey                     int64\n",
       "CustomerKey                      int64\n",
       "SalesTerritoryKey                int64\n",
       "SalesOrderNumber                object\n",
       "SalesOrderLineNumber             int64\n",
       "OrderQuantity                    int64\n",
       "UnitPrice                      float64\n",
       "TotalProductCost               float64\n",
       "TaxAmount                      float64\n",
       "SalesAmount                      int64\n",
       "OrderDate               datetime64[ns]\n",
       "dtype: object"
      ]
     },
     "execution_count": 6,
     "metadata": {},
     "output_type": "execute_result"
    }
   ],
   "source": [
    "sales.dtypes"
   ]
  },
  {
   "cell_type": "code",
   "execution_count": 7,
   "id": "4323a348",
   "metadata": {},
   "outputs": [],
   "source": [
    "# sales[\"OrderYear\"] = sales[\"OrderDate\"].dt.year\n",
    "# sales[[\"OrderYear\", \"OrderDate\"]].head()\n",
    "start_date = \"2011-01-01\"\n",
    "end_date = \"2014-12-31\""
   ]
  },
  {
   "cell_type": "code",
   "execution_count": 8,
   "id": "a3c611be",
   "metadata": {},
   "outputs": [],
   "source": [
    "sales = sales[(sales.OrderDate >= start_date) & (sales.OrderDate <= end_date)]"
   ]
  },
  {
   "cell_type": "code",
   "execution_count": 9,
   "id": "d46c94f6",
   "metadata": {},
   "outputs": [],
   "source": [
    "sales[\"OrderYear\"] = sales[\"OrderDate\"].dt.year"
   ]
  },
  {
   "cell_type": "markdown",
   "id": "e9b9960f",
   "metadata": {},
   "source": [
    "Question 1: Which Key Metrics to be included in your Report ? Please shortly explain your choices for each Metrics.  \n",
    "Key Metrics:  \n",
    "Total Revenue - year  \n",
    "Revenue by quarter  \n",
    "Revenue by territory  \n",
    "percentage of revenue from new business/existing customer  \n",
    "revenue by month  \n",
    "revenue by month of each demographic/subcategory  \n",
    "average revenue per customer: by year  \n"
   ]
  },
  {
   "cell_type": "code",
   "execution_count": 10,
   "id": "fead26e2",
   "metadata": {},
   "outputs": [],
   "source": [
    "sales[\"TotalAmount\"] = sales[\"UnitPrice\"] * sales[\"SalesAmount\"]"
   ]
  },
  {
   "cell_type": "code",
   "execution_count": 15,
   "id": "dcaf89e2",
   "metadata": {},
   "outputs": [],
   "source": [
    "sum_sales = sales.groupby(\"OrderYear\").sum().reset_index()"
   ]
  },
  {
   "cell_type": "code",
   "execution_count": 17,
   "id": "1f2a121b",
   "metadata": {},
   "outputs": [],
   "source": [
    "sns.set_style(\"darkgrid\")"
   ]
  },
  {
   "cell_type": "code",
   "execution_count": 20,
   "id": "601de623",
   "metadata": {},
   "outputs": [
    {
     "data": {
      "text/plain": [
       "([<matplotlib.axis.XTick at 0x7f63aba49d00>,\n",
       "  <matplotlib.axis.XTick at 0x7f63aba49cd0>,\n",
       "  <matplotlib.axis.XTick at 0x7f63ac53e190>,\n",
       "  <matplotlib.axis.XTick at 0x7f63ac53e820>],\n",
       " [Text(2010.5, 0, '2010.5'),\n",
       "  Text(2011.0, 0, '2011.0'),\n",
       "  Text(2011.5, 0, '2011.5'),\n",
       "  Text(2012.0, 0, '2012.0')])"
      ]
     },
     "execution_count": 20,
     "metadata": {},
     "output_type": "execute_result"
    },
    {
     "data": {
      "image/png": "[encoded data removed]",
      "text/plain": [
       "<Figure size 360x360 with 1 Axes>"
      ]
     },
     "metadata": {},
     "output_type": "display_data"
    }
   ],
   "source": [
    "sns.relplot(x=\"OrderYear\", y=\"TotalAmount\", ci=None, kind=\"line\", data=sum_sales)\n",
    "sns.despine()\n",
    "plt.xticks([2011, 2012, 2013, 2014])"
   ]
  },
  {
   "cell_type": "code",
   "execution_count": 21,
   "id": "0affa114",
   "metadata": {},
   "outputs": [
    {
     "data": {
      "text/html": [
       "<div>\n",
       "<style scoped>\n",
       "    .dataframe tbody tr th:only-of-type {\n",
       "        vertical-align: middle;\n",
       "    }\n",
       "\n",
       "    .dataframe tbody tr th {\n",
       "        vertical-align: top;\n",
       "    }\n",
       "\n",
       "    .dataframe thead th {\n",
       "        text-align: right;\n",
       "    }\n",
       "</style>\n",
       "<table border=\"1\" class=\"dataframe\">\n",
       "  <thead>\n",
       "    <tr style=\"text-align: right;\">\n",
       "      <th></th>\n",
       "      <th>SalesTerritoryKey</th>\n",
       "      <th>SalesTerritoryRegion</th>\n",
       "      <th>SalesTerritoryCountry</th>\n",
       "      <th>SalesTerritoryGroup</th>\n",
       "    </tr>\n",
       "  </thead>\n",
       "  <tbody>\n",
       "    <tr>\n",
       "      <th>0</th>\n",
       "      <td>1</td>\n",
       "      <td>Northwest</td>\n",
       "      <td>United States</td>\n",
       "      <td>North America</td>\n",
       "    </tr>\n",
       "    <tr>\n",
       "      <th>1</th>\n",
       "      <td>2</td>\n",
       "      <td>Northeast</td>\n",
       "      <td>United States</td>\n",
       "      <td>North America</td>\n",
       "    </tr>\n",
       "    <tr>\n",
       "      <th>2</th>\n",
       "      <td>3</td>\n",
       "      <td>Central</td>\n",
       "      <td>United States</td>\n",
       "      <td>North America</td>\n",
       "    </tr>\n",
       "    <tr>\n",
       "      <th>3</th>\n",
       "      <td>4</td>\n",
       "      <td>Southwest</td>\n",
       "      <td>United States</td>\n",
       "      <td>North America</td>\n",
       "    </tr>\n",
       "    <tr>\n",
       "      <th>4</th>\n",
       "      <td>5</td>\n",
       "      <td>Southeast</td>\n",
       "      <td>United States</td>\n",
       "      <td>North America</td>\n",
       "    </tr>\n",
       "  </tbody>\n",
       "</table>\n",
       "</div>"
      ],
      "text/plain": [
       "   SalesTerritoryKey SalesTerritoryRegion SalesTerritoryCountry  \\\n",
       "0                  1            Northwest         United States   \n",
       "1                  2            Northeast         United States   \n",
       "2                  3              Central         United States   \n",
       "3                  4            Southwest         United States   \n",
       "4                  5            Southeast         United States   \n",
       "\n",
       "  SalesTerritoryGroup  \n",
       "0       North America  \n",
       "1       North America  \n",
       "2       North America  \n",
       "3       North America  \n",
       "4       North America  "
      ]
     },
     "execution_count": 21,
     "metadata": {},
     "output_type": "execute_result"
    }
   ],
   "source": [
    "territory.head()"
   ]
  },
  {
   "cell_type": "code",
   "execution_count": null,
   "id": "5dbcd64c",
   "metadata": {},
   "outputs": [],
   "source": [
    "sales_territory = pd.merge"
   ]
  }
 ],
 "metadata": {
  "kernelspec": {
   "display_name": "Python 3",
   "language": "python",
   "name": "python3"
  },
  "language_info": {
   "codemirror_mode": {
    "name": "ipython",
    "version": 3
   },
   "file_extension": ".py",
   "mimetype": "text/x-python",
   "name": "python",
   "nbconvert_exporter": "python",
   "pygments_lexer": "ipython3",
   "version": "3.9.1"
  },
  "toc": {
   "base_numbering": 1,
   "nav_menu": {},
   "number_sections": true,
   "sideBar": true,
   "skip_h1_title": false,
   "title_cell": "Table of Contents",
   "title_sidebar": "Contents",
   "toc_cell": false,
   "toc_position": {},
   "toc_section_display": true,
   "toc_window_display": false
  },
  "varInspector": {
   "cols": {
    "lenName": 16,
    "lenType": 16,
    "lenVar": 40
   },
   "kernels_config": {
    "python": {
     "delete_cmd_postfix": "",
     "delete_cmd_prefix": "del ",
     "library": "var_list.py",
     "varRefreshCmd": "print(var_dic_list())"
    },
    "r": {
     "delete_cmd_postfix": ") ",
     "delete_cmd_prefix": "rm(",
     "library": "var_list.r",
     "varRefreshCmd": "cat(var_dic_list()) "
    }
   },
   "types_to_exclude": [
    "module",
    "function",
    "builtin_function_or_method",
    "instance",
    "_Feature"
   ],
   "window_display": false
  }
 },
 "nbformat": 4,
 "nbformat_minor": 5
}
